{
 "cells": [
  {
   "cell_type": "code",
   "execution_count": 19,
   "id": "fa3c78c5",
   "metadata": {},
   "outputs": [],
   "source": [
    "import matplotlib.pyplot as plt\n",
    "import pandas as pd\n",
    "import seaborn as sns\n",
    "import numpy as np\n",
    "\n",
    "import pathlib\n",
    "import tensorflow as tf\n",
    "from tensorflow import keras\n",
    "from tensorflow.keras import layers"
   ]
  },
  {
   "cell_type": "code",
   "execution_count": 20,
   "id": "c39016e4",
   "metadata": {
    "scrolled": true
   },
   "outputs": [],
   "source": [
    "df = pd.read_excel('C:/Users/frado/AI_STUDY_DATA/Raisin_Dataset.xlsx', index_col=0, engine='openpyxl')\n",
    "X = df.drop('Class', axis=1)  # 특성 변수들\n",
    "y = df['Class']  # 목표 변수\n"
   ]
  },
  {
   "cell_type": "code",
   "execution_count": 21,
   "id": "aad70b30",
   "metadata": {},
   "outputs": [
    {
     "data": {
      "text/plain": [
       "((675, 6), (225, 6), (675,), (225,))"
      ]
     },
     "execution_count": 21,
     "metadata": {},
     "output_type": "execute_result"
    }
   ],
   "source": [
    "# train & test\n",
    "\n",
    "from sklearn.model_selection import train_test_split\n",
    "\n",
    "X_train, X_test, y_train, y_test = train_test_split(X, y, test_size=0.25, random_state=0)\n",
    "\n",
    "X_train.shape, X_test.shape, y_train.shape, y_test.shape"
   ]
  },
  {
   "cell_type": "code",
   "execution_count": 22,
   "id": "d174c7a7",
   "metadata": {},
   "outputs": [
    {
     "name": "stdout",
     "output_type": "stream",
     "text": [
      "\n",
      "--- SVM Classifier ---\n",
      "0.8133333333333334\n",
      "[[ 83  32]\n",
      " [ 10 100]]\n"
     ]
    }
   ],
   "source": [
    "# SVM\n",
    "\n",
    "from sklearn.metrics import accuracy_score\n",
    "from sklearn.metrics import confusion_matrix\n",
    "from sklearn.svm import SVC\n",
    "\n",
    "clf_svm = SVC(random_state=0)\n",
    "clf_svm.fit(X_train, y_train)\n",
    "\n",
    "pred_svm = clf_svm.predict(X_test)\n",
    "\n",
    "print(\"\\n--- SVM Classifier ---\")\n",
    "print(accuracy_score(y_test, pred_svm))\n",
    "print(confusion_matrix(y_test, pred_svm))"
   ]
  },
  {
   "cell_type": "code",
   "execution_count": 23,
   "id": "74b06eb9",
   "metadata": {},
   "outputs": [
    {
     "name": "stdout",
     "output_type": "stream",
     "text": [
      "\n",
      "--- Logistic Regression Classifier ---\n",
      "0.8844444444444445\n",
      "[[ 98  17]\n",
      " [  9 101]]\n"
     ]
    }
   ],
   "source": [
    "# LR\n",
    "\n",
    "from sklearn.linear_model import LogisticRegression\n",
    "\n",
    "clf_lr = LogisticRegression(random_state=0, max_iter=1000)\n",
    "clf_lr.fit(X_train, y_train)\n",
    "\n",
    "pred_lr = clf_lr.predict(X_test)\n",
    "\n",
    "print (\"\\n--- Logistic Regression Classifier ---\")\n",
    "print (accuracy_score(y_test, pred_lr))\n",
    "print (confusion_matrix(y_test, pred_lr))"
   ]
  },
  {
   "cell_type": "code",
   "execution_count": 24,
   "id": "2db5429c",
   "metadata": {},
   "outputs": [
    {
     "name": "stdout",
     "output_type": "stream",
     "text": [
      "\n",
      "--- Decision Tree Classifier ---\n",
      "0.7955555555555556\n",
      "[[92 23]\n",
      " [23 87]]\n"
     ]
    }
   ],
   "source": [
    "# DT\n",
    "\n",
    "from sklearn.tree import DecisionTreeClassifier\n",
    "\n",
    "clf_dt = DecisionTreeClassifier(random_state=0)\n",
    "clf_dt.fit(X_train, y_train)\n",
    "\n",
    "pred_dt = clf_dt.predict(X_test)\n",
    "\n",
    "print (\"\\n--- Decision Tree Classifier ---\")\n",
    "print (accuracy_score(y_test, pred_dt))\n",
    "print (confusion_matrix(y_test, pred_dt))"
   ]
  },
  {
   "cell_type": "code",
   "execution_count": 25,
   "id": "dbe2abe2",
   "metadata": {},
   "outputs": [
    {
     "name": "stdout",
     "output_type": "stream",
     "text": [
      "\n",
      "--- Random Forest ---\n",
      "0.8711111111111111\n",
      "[[98 17]\n",
      " [12 98]]\n"
     ]
    }
   ],
   "source": [
    "# RT\n",
    "\n",
    "from sklearn.ensemble import RandomForestClassifier\n",
    "from sklearn.metrics import accuracy_score\n",
    "import pandas as pd\n",
    "\n",
    "print (\"\\n--- Random Forest ---\")\n",
    "rf_clf = RandomForestClassifier(random_state=0)\n",
    "rf_clf.fit(X_train, y_train)\n",
    "pred = rf_clf.predict(X_test)\n",
    "print(accuracy_score(y_test,pred))\n",
    "print (confusion_matrix(y_test, pred))"
   ]
  },
  {
   "cell_type": "code",
   "execution_count": 26,
   "id": "538cf241",
   "metadata": {},
   "outputs": [],
   "source": [
    "X = df.drop(['Perimeter', 'Class'], axis=1)  #Perimeter'와 'Class' 열을 제외한 모든 열을 특성으로 사용\n",
    "y = df['Perimeter']  # 'Perimeter' 열을 목표 변수로 사용\n"
   ]
  },
  {
   "cell_type": "code",
   "execution_count": 27,
   "id": "811306cf",
   "metadata": {},
   "outputs": [],
   "source": [
    "# train/test\n",
    "from sklearn.model_selection import train_test_split\n",
    "X_train,X_test,y_train,y_test=train_test_split(X,y,test_size=0.2,random_state=423)"
   ]
  },
  {
   "cell_type": "code",
   "execution_count": 28,
   "id": "66b87b28",
   "metadata": {},
   "outputs": [
    {
     "name": "stdout",
     "output_type": "stream",
     "text": [
      "1.0\n"
     ]
    }
   ],
   "source": [
    "# DecisionTreeRegressor\n",
    "from sklearn.metrics import mean_squared_error\n",
    "from sklearn.metrics import confusion_matrix\n",
    "\n",
    "from sklearn.tree import DecisionTreeRegressor\n",
    "\n",
    "clf_dt = DecisionTreeRegressor()\n",
    "clf_dt.fit(X_train, y_train)\n",
    "\n",
    "pred_dt = clf_dt.predict(X_test)\n",
    "\n",
    "print(clf_dt.score(X_train, y_train))"
   ]
  },
  {
   "cell_type": "code",
   "execution_count": 29,
   "id": "c285dd49",
   "metadata": {},
   "outputs": [
    {
     "name": "stdout",
     "output_type": "stream",
     "text": [
      "평균제곱근오차 43.140461102658605\n"
     ]
    }
   ],
   "source": [
    "mse = np.sqrt(mean_squared_error(pred_dt, y_test))\n",
    "print('평균제곱근오차', mse)"
   ]
  },
  {
   "cell_type": "code",
   "execution_count": 30,
   "id": "46689f5f",
   "metadata": {},
   "outputs": [
    {
     "name": "stdout",
     "output_type": "stream",
     "text": [
      "0.9984489896654595\n"
     ]
    }
   ],
   "source": [
    "from sklearn.ensemble import RandomForestRegressor\n",
    "\n",
    "rf_clf = RandomForestRegressor()\n",
    "rf_clf.fit(X_train, y_train)\n",
    "\n",
    "pred_rf = rf_clf.predict(X_test)\n",
    "\n",
    "print(rf_clf.score(X_train, y_train))"
   ]
  },
  {
   "cell_type": "code",
   "execution_count": 31,
   "id": "9f06e3cf",
   "metadata": {},
   "outputs": [
    {
     "name": "stdout",
     "output_type": "stream",
     "text": [
      "평균제곱근오차 35.47424324578047\n"
     ]
    }
   ],
   "source": [
    "mse = np.sqrt(mean_squared_error(pred_rf, y_test))\n",
    "print('평균제곱근오차', mse)"
   ]
  },
  {
   "cell_type": "code",
   "execution_count": 32,
   "id": "3b0ebac3",
   "metadata": {},
   "outputs": [
    {
     "name": "stdout",
     "output_type": "stream",
     "text": [
      "0.9879664542273404\n"
     ]
    }
   ],
   "source": [
    "from sklearn.linear_model import LinearRegression\n",
    "\n",
    "clf_lr = LinearRegression()\n",
    "clf_lr.fit(X_train, y_train)\n",
    "\n",
    "pred_lr = clf_lr.predict(X_test)\n",
    "\n",
    "print(clf_lr.score(X_train, y_train))"
   ]
  },
  {
   "cell_type": "code",
   "execution_count": 33,
   "id": "44a8edb1",
   "metadata": {},
   "outputs": [
    {
     "name": "stdout",
     "output_type": "stream",
     "text": [
      "평균제곱근오차 29.058940340153367\n"
     ]
    }
   ],
   "source": [
    "mse = np.sqrt(mean_squared_error(pred_lr, y_test))\n",
    "print('평균제곱근오차', mse)"
   ]
  },
  {
   "cell_type": "code",
   "execution_count": 34,
   "id": "c7d04c11",
   "metadata": {},
   "outputs": [
    {
     "name": "stdout",
     "output_type": "stream",
     "text": [
      "[1076.59211635 1147.26412631 1263.7908251  1092.83942365 1018.25682471\n",
      " 1312.45722198 1135.50287873 1057.83372953 1036.4021595  1132.50770743\n",
      " 1034.24660694 1079.86045089 1309.67149421 1312.99660022 1088.12648491\n",
      " 1011.9339965  1178.26210967 1050.54965892 1082.98716955 1295.68808802\n",
      " 1036.22711432 1055.64362712 1294.46967087 1105.978489   1083.87167775\n",
      " 1312.88206886 1038.06188648 1255.31465531 1028.42025624 1051.9851098\n",
      " 1221.9342243  1131.7743927  1084.98717825 1047.75057796 1184.32077338\n",
      " 1147.73425632 1058.16203119 1108.33110476 1119.26436027 1097.06263439\n",
      " 1061.03412972 1310.41981476 1084.18436575 1310.01453425 1021.06204468\n",
      " 1307.6509664  1096.90201936 1219.03457313 1139.83493122 1260.13875789\n",
      " 1061.69468137 1201.17529015 1043.43604488 1081.16214479 1255.48382785\n",
      " 1059.85642847 1029.94294848 1193.00124389 1101.29190293 1306.79195905\n",
      " 1163.82271575 1259.1428383  1263.45891483 1049.68347943 1018.32005198\n",
      " 1044.89964226 1307.50130722 1018.4811317  1300.99209733 1084.82917656\n",
      " 1230.02427863 1257.34809267 1050.59161573 1025.57030323 1013.65891195\n",
      " 1180.47431    1100.09869723 1101.16757478 1181.89711603 1165.06215772\n",
      " 1162.07430913 1115.23521834 1267.62352901 1145.76762193 1125.85200326\n",
      " 1032.02873593 1224.10949503 1240.87810281 1249.57681917 1083.96097427\n",
      " 1070.76642813 1034.09632345 1296.12888082 1074.51369074 1084.30357507\n",
      " 1115.03377504 1050.41493515 1015.25478525 1308.26186403 1205.23898641\n",
      " 1134.96838514 1077.02170829 1250.66033003 1258.54155046 1025.9331145\n",
      " 1030.21353796 1042.58653672 1124.40996822 1080.40643328 1024.1295233\n",
      " 1064.73198112 1025.93161672 1117.81334009 1101.33990833 1197.84331253\n",
      " 1110.54900564 1144.4726806  1186.73789335 1133.40669288 1282.38374153\n",
      " 1286.97315377 1199.64668229 1092.90744623 1159.45116199 1025.80072426\n",
      " 1049.64197174 1288.65594368 1307.56744415 1030.12994289 1251.41591109\n",
      " 1064.29529241 1104.33557885 1097.47076769 1060.91879027 1053.46195804\n",
      " 1071.3865292  1155.97533486 1018.18516623 1215.06453523 1312.35227978\n",
      " 1312.53990278 1120.96703065 1146.45826515 1105.6222133  1040.25820781\n",
      " 1079.49020488 1275.96844493 1138.82701823 1278.34114226 1312.88377138\n",
      " 1111.01052167 1269.25735623 1049.01749952 1301.05369489 1114.68586798\n",
      " 1251.14537371 1236.0406699  1257.68294449 1041.27060173 1109.83536726\n",
      " 1101.11357645 1192.15113546 1013.98417762 1153.79200029 1280.4109269\n",
      " 1017.84225564 1085.40700779 1100.85593283 1022.4524232  1115.88840051\n",
      " 1064.31119305 1106.05900124 1281.66540009 1035.96550279 1044.43155807\n",
      " 1155.15396129 1029.42557268 1071.05365365 1215.27154319 1124.08626339]\n"
     ]
    }
   ],
   "source": [
    "from sklearn.svm import SVR\n",
    "\n",
    "# SVR 모델 생성 및 학습\n",
    "svr = SVR()\n",
    "svr.fit(X_train, y_train)\n",
    "\n",
    "# 예측\n",
    "pred_svr = svr.predict(X_test)\n",
    "print(pred_svr)"
   ]
  },
  {
   "cell_type": "code",
   "execution_count": 35,
   "id": "c046355d",
   "metadata": {},
   "outputs": [
    {
     "name": "stdout",
     "output_type": "stream",
     "text": [
      "SVR 평균제곱근오차: 185.52996271685382\n"
     ]
    }
   ],
   "source": [
    "mse = np.sqrt(mean_squared_error(pred_svr, y_test))\n",
    "print('SVR 평균제곱근오차:', mse)"
   ]
  },
  {
   "cell_type": "code",
   "execution_count": null,
   "id": "0ac38486",
   "metadata": {},
   "outputs": [],
   "source": []
  }
 ],
 "metadata": {
  "kernelspec": {
   "display_name": "Python 3",
   "language": "python",
   "name": "python3"
  },
  "language_info": {
   "codemirror_mode": {
    "name": "ipython",
    "version": 3
   },
   "file_extension": ".py",
   "mimetype": "text/x-python",
   "name": "python",
   "nbconvert_exporter": "python",
   "pygments_lexer": "ipython3",
   "version": "3.6.13"
  }
 },
 "nbformat": 4,
 "nbformat_minor": 5
}
